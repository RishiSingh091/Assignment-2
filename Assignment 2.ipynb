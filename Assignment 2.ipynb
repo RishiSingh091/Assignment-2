{
 "cells": [
  {
   "cell_type": "markdown",
   "id": "0035e836-1085-4b00-96d8-549fdb35b426",
   "metadata": {},
   "source": [
    "# What are the two values of the Boolean data type? How do you write them?"
   ]
  },
  {
   "cell_type": "code",
   "execution_count": null,
   "id": "4b75bb92-650d-4742-9bec-3215aca0d131",
   "metadata": {},
   "outputs": [],
   "source": [
    "the two values of the Boolean data type is True and False"
   ]
  },
  {
   "cell_type": "markdown",
   "id": "02f4b514-58ef-4106-bde0-57c4140032c7",
   "metadata": {},
   "source": [
    "# What are the three different types of Boolean operators?"
   ]
  },
  {
   "cell_type": "code",
   "execution_count": null,
   "id": "9c3061ac-3660-44b3-9378-6a0ae2a4dde6",
   "metadata": {},
   "outputs": [],
   "source": [
    "the Three diffrent types if Boolean operators are and or and not"
   ]
  },
  {
   "cell_type": "code",
   "execution_count": null,
   "id": "ccac41a1-6de8-498f-9ecf-97eb6890885e",
   "metadata": {},
   "outputs": [],
   "source": [
    "False\n",
    "False\n",
    "True\n",
    "False\n",
    "False\n",
    "True"
   ]
  },
  {
   "cell_type": "markdown",
   "id": "5257d722-fd80-4d39-85e2-066699b0738b",
   "metadata": {},
   "source": [
    "# What are the six comparison operators?"
   ]
  },
  {
   "cell_type": "code",
   "execution_count": null,
   "id": "f09af1ae-70ce-45fb-80c6-1c59e7ce1e17",
   "metadata": {},
   "outputs": [],
   "source": [
    "==, !=, <, >, <=, and >="
   ]
  },
  {
   "cell_type": "markdown",
   "id": "5d6435ec-a299-44be-9ebf-9ef3427b1bf8",
   "metadata": {},
   "source": [
    "# How do you tell the difference between the equal to and assignment operators?Describe a\n",
    "# condition and when you would use one."
   ]
  },
  {
   "cell_type": "code",
   "execution_count": null,
   "id": "383ba8f5-5c9e-4cf4-a107-3572d07f1e20",
   "metadata": {},
   "outputs": [],
   "source": [
    "The equal to == is used to compare two value and = assignment operators assign the values \n",
    "enterd by the user to the variable number"
   ]
  },
  {
   "cell_type": "code",
   "execution_count": 7,
   "id": "95d0134c-1c53-4e28-bbba-bbbec9be1105",
   "metadata": {},
   "outputs": [
    {
     "name": "stdout",
     "output_type": "stream",
     "text": [
      "Hello\n"
     ]
    }
   ],
   "source": [
    "spam = 1\n",
    "\n",
    "if spam == 1:\n",
    "   print('Hello')\n",
    "elif spam == 2:\n",
    "    print('Howdy')\n",
    "else:\n",
    "    print('Greetings!')"
   ]
  },
  {
   "cell_type": "markdown",
   "id": "6d2c1be4-65b8-49e0-9a29-6ef40fb09a66",
   "metadata": {},
   "source": [
    "# If your programme is stuck in an endless loop, what keys you’ll press?"
   ]
  },
  {
   "cell_type": "code",
   "execution_count": null,
   "id": "bdd34c8f-a1cc-4799-9775-1fecf67bdd52",
   "metadata": {},
   "outputs": [],
   "source": [
    "I will press ctrl+c to stop programme is stuck in an endless loop,"
   ]
  },
  {
   "cell_type": "markdown",
   "id": "f9be1d2d-08ad-4a94-9130-4ce69eec5f39",
   "metadata": {},
   "source": [
    "# How can you tell the difference between break and continue?"
   ]
  },
  {
   "cell_type": "code",
   "execution_count": null,
   "id": "7edffe55-8037-4c0d-a4b3-6e6489f81c2d",
   "metadata": {},
   "outputs": [],
   "source": [
    "The break statement is used to exit a loop immediately. When break is encountered, the loop stops \n",
    "running, and the program continues with the next statement after the loop.\n",
    "\n",
    "The continue statement skips the rest of the code inside the current loop iteration and moves on \n",
    "to the next iteration of the loop."
   ]
  },
  {
   "cell_type": "markdown",
   "id": "bf5aee58-d4c2-4b09-a43e-3aa01d116699",
   "metadata": {},
   "source": [
    "# In a for loop, what is the difference between range(10), range(0, 10), and range(0, 10, 1)?"
   ]
  },
  {
   "cell_type": "code",
   "execution_count": null,
   "id": "2de68831-4996-4387-909c-7dec54cef3bc",
   "metadata": {},
   "outputs": [],
   "source": [
    "They all do the same thing.They print numbers from 0 up to 9 only"
   ]
  },
  {
   "cell_type": "markdown",
   "id": "21823ead-1384-4440-ae46-f657dd3abb93",
   "metadata": {},
   "source": [
    "# Write a short program that prints the numbers 1 to 10 using a for loop. Then write an equivalent\n",
    "# program that prints the numbers 1 to 10 using a while loop."
   ]
  },
  {
   "cell_type": "code",
   "execution_count": 1,
   "id": "2536a6b8-e6f5-42bf-a867-f7e698cd59ad",
   "metadata": {},
   "outputs": [
    {
     "name": "stdout",
     "output_type": "stream",
     "text": [
      "1\n",
      "2\n",
      "3\n",
      "4\n",
      "5\n",
      "6\n",
      "7\n",
      "8\n",
      "9\n",
      "10\n"
     ]
    }
   ],
   "source": [
    "# Using for loop \n",
    "\n",
    "for i in range(1,11):\n",
    "    print(i)\n"
   ]
  },
  {
   "cell_type": "code",
   "execution_count": 5,
   "id": "a48bb825-00c5-41a2-9b21-aba2d70e9886",
   "metadata": {},
   "outputs": [
    {
     "name": "stdout",
     "output_type": "stream",
     "text": [
      "1\n",
      "2\n",
      "3\n",
      "4\n",
      "5\n",
      "6\n",
      "7\n",
      "8\n",
      "9\n",
      "10\n"
     ]
    }
   ],
   "source": [
    " i = 0\n",
    "while i <= 9:\n",
    "    i = i+1\n",
    "    print(i)"
   ]
  },
  {
   "cell_type": "markdown",
   "id": "d284ca96-75d2-45dd-8305-415626085cf2",
   "metadata": {},
   "source": []
  },
  {
   "cell_type": "code",
   "execution_count": null,
   "id": "2a59484a-2328-4973-b294-40bbb5745635",
   "metadata": {},
   "outputs": [],
   "source": []
  },
  {
   "cell_type": "code",
   "execution_count": null,
   "id": "50042e6f-dbf3-4982-8ebb-cc1cbdc51dd8",
   "metadata": {},
   "outputs": [],
   "source": []
  },
  {
   "cell_type": "code",
   "execution_count": null,
   "id": "764a2e3e-c942-4766-a92c-6b0334c24c96",
   "metadata": {},
   "outputs": [],
   "source": []
  },
  {
   "cell_type": "code",
   "execution_count": null,
   "id": "ba777244-a510-4ed3-a174-c062aea75fd4",
   "metadata": {},
   "outputs": [],
   "source": []
  }
 ],
 "metadata": {
  "kernelspec": {
   "display_name": "Python 3 (ipykernel)",
   "language": "python",
   "name": "python3"
  },
  "language_info": {
   "codemirror_mode": {
    "name": "ipython",
    "version": 3
   },
   "file_extension": ".py",
   "mimetype": "text/x-python",
   "name": "python",
   "nbconvert_exporter": "python",
   "pygments_lexer": "ipython3",
   "version": "3.10.2"
  }
 },
 "nbformat": 4,
 "nbformat_minor": 5
}
